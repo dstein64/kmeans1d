{
 "cells": [
  {
   "cell_type": "code",
   "execution_count": 3,
   "metadata": {},
   "outputs": [
    {
     "name": "stdout",
     "output_type": "stream",
     "text": [
      "The autoreload extension is already loaded. To reload it, use:\n",
      "  %reload_ext autoreload\n"
     ]
    }
   ],
   "source": [
    "%load_ext autoreload\n",
    "%autoreload 2"
   ]
  },
  {
   "cell_type": "code",
   "execution_count": 4,
   "metadata": {},
   "outputs": [
    {
     "name": "stdout",
     "output_type": "stream",
     "text": [
      "[1, 1, 1, 0, 3, 3, 3, 2, 2, 2]\n",
      "[-50.0, 4.1, 94.0, 200.5]\n"
     ]
    }
   ],
   "source": [
    "import optimal1Dcluster\n",
    "\n",
    "x = [4.0, 4.1, 4.2, -50, 200.2, 200.4, 200.9, 80, 100, 102]\n",
    "k = 4\n",
    "\n",
    "clusters, centroids = optimal1Dcluster.kmeans(x, k)\n",
    "\n",
    "print(clusters)   # [1, 1, 1, 0, 3, 3, 3, 2, 2, 2]\n",
    "print(centroids)  # [-50.0, 4.1, 94.0, 200.5]"
   ]
  }
 ],
 "metadata": {
  "kernelspec": {
   "display_name": "Python 3",
   "language": "python",
   "name": "python3"
  },
  "language_info": {
   "codemirror_mode": {
    "name": "ipython",
    "version": 3
   },
   "file_extension": ".py",
   "mimetype": "text/x-python",
   "name": "python",
   "nbconvert_exporter": "python",
   "pygments_lexer": "ipython3",
   "version": "3.10.13"
  }
 },
 "nbformat": 4,
 "nbformat_minor": 2
}
